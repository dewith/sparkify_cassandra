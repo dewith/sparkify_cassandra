{
 "cells": [
  {
   "cell_type": "markdown",
   "id": "dangerous-personal",
   "metadata": {
    "editable": true
   },
   "source": [
    "# Part I: ETL pipeline for preprocessing the files"
   ]
  },
  {
   "cell_type": "markdown",
   "id": "alternate-trader",
   "metadata": {
    "editable": true
   },
   "source": [
    "Importing python packages "
   ]
  },
  {
   "cell_type": "code",
   "execution_count": 1,
   "id": "biblical-proportion",
   "metadata": {
    "editable": true
   },
   "outputs": [],
   "source": [
    "import os\n",
    "import csv\n",
    "import glob\n",
    "import pandas as pd\n",
    "import cassandra\n",
    "from cassandra.cluster import Cluster"
   ]
  },
  {
   "cell_type": "markdown",
   "id": "raising-technology",
   "metadata": {
    "editable": true
   },
   "source": [
    "Creating list of filepaths to process original event csv data files"
   ]
  },
  {
   "cell_type": "code",
   "execution_count": 2,
   "id": "deadly-audit",
   "metadata": {
    "editable": true
   },
   "outputs": [],
   "source": [
    "filepath = os.getcwd() + '/event_data'\n",
    "\n",
    "for root, dirs, files in os.walk(filepath):\n",
    "    file_path_list = glob.glob(os.path.join(root,'*'))"
   ]
  },
  {
   "cell_type": "markdown",
   "id": "animated-richardson",
   "metadata": {
    "editable": true
   },
   "source": [
    "Processing the files to create the data file csv that will be used for Casssandra tables"
   ]
  },
  {
   "cell_type": "code",
   "execution_count": 3,
   "id": "welcome-ethics",
   "metadata": {
    "editable": true
   },
   "outputs": [],
   "source": [
    "full_data_rows_list = [] \n",
    "    \n",
    "for f in file_path_list:\n",
    "    with open(f, 'r', encoding = 'utf8', newline='') as csvfile:\n",
    "        csvreader = csv.reader(csvfile) \n",
    "        next(csvreader)\n",
    "        \n",
    "        for line in csvreader:\n",
    "            full_data_rows_list.append(line)\n",
    "\n",
    "\n",
    "csv.register_dialect('myDialect', quoting=csv.QUOTE_ALL, skipinitialspace=True)\n",
    "\n",
    "with open('event_datafile_new.csv', 'w', encoding = 'utf8', newline='') as f:\n",
    "    writer = csv.writer(f, dialect='myDialect')\n",
    "    writer.writerow(['artist','firstName','gender','itemInSession','lastName','length',\\\n",
    "                     'level','location','sessionId','song','userId'])\n",
    "    for row in full_data_rows_list:\n",
    "        if (row[0] == ''):\n",
    "            continue\n",
    "        writer.writerow((row[0], row[2], row[3], row[4], row[5], row[6], row[7], row[8], row[12], row[13], row[16]))"
   ]
  },
  {
   "cell_type": "markdown",
   "id": "canadian-specific",
   "metadata": {
    "editable": true
   },
   "source": [
    "Checking the number of rows in the csv file"
   ]
  },
  {
   "cell_type": "code",
   "execution_count": 4,
   "id": "planned-armor",
   "metadata": {
    "editable": true
   },
   "outputs": [
    {
     "name": "stdout",
     "output_type": "stream",
     "text": [
      "6821\n"
     ]
    }
   ],
   "source": [
    "with open('event_datafile_new.csv', 'r', encoding = 'utf8') as f:\n",
    "    print(sum(1 for line in f))"
   ]
  },
  {
   "cell_type": "markdown",
   "id": "outstanding-craps",
   "metadata": {
    "editable": true
   },
   "source": [
    "# Part II: Data modeling with Cassandra"
   ]
  },
  {
   "cell_type": "markdown",
   "id": "optical-heaven",
   "metadata": {
    "editable": true
   },
   "source": [
    "## Creating the keyspace"
   ]
  },
  {
   "cell_type": "code",
   "execution_count": 5,
   "id": "selective-german",
   "metadata": {
    "editable": true
   },
   "outputs": [],
   "source": [
    "# Connecting to local cluster\n",
    "cluster = Cluster(['127.0.0.1'])\n",
    "session = cluster.connect()"
   ]
  },
  {
   "cell_type": "code",
   "execution_count": 6,
   "id": "tropical-blues",
   "metadata": {
    "editable": true
   },
   "outputs": [
    {
     "data": {
      "text/plain": [
       "<cassandra.cluster.ResultSet at 0x7f7b4ad9a630>"
      ]
     },
     "execution_count": 6,
     "metadata": {},
     "output_type": "execute_result"
    }
   ],
   "source": [
    "session.execute('''\n",
    "    CREATE KEYSPACE IF NOT EXISTS music_library\n",
    "    WITH REPLICATION = {'class': 'SimpleStrategy', 'replication_factor': 1}\n",
    "''')"
   ]
  },
  {
   "cell_type": "code",
   "execution_count": 7,
   "id": "governmental-overall",
   "metadata": {
    "editable": true
   },
   "outputs": [],
   "source": [
    "session.set_keyspace('music_library')"
   ]
  },
  {
   "cell_type": "markdown",
   "id": "demographic-scratch",
   "metadata": {
    "editable": true
   },
   "source": [
    "## Creating the tables"
   ]
  },
  {
   "cell_type": "markdown",
   "id": "characteristic-reproduction",
   "metadata": {
    "editable": true
   },
   "source": [
    "Firstly, let's check the columns and the rows in the generated dataset"
   ]
  },
  {
   "cell_type": "code",
   "execution_count": 8,
   "id": "amateur-transparency",
   "metadata": {
    "editable": true
   },
   "outputs": [
    {
     "data": {
      "text/html": [
       "<div>\n",
       "<style scoped>\n",
       "    .dataframe tbody tr th:only-of-type {\n",
       "        vertical-align: middle;\n",
       "    }\n",
       "\n",
       "    .dataframe tbody tr th {\n",
       "        vertical-align: top;\n",
       "    }\n",
       "\n",
       "    .dataframe thead th {\n",
       "        text-align: right;\n",
       "    }\n",
       "</style>\n",
       "<table border=\"1\" class=\"dataframe\">\n",
       "  <thead>\n",
       "    <tr style=\"text-align: right;\">\n",
       "      <th></th>\n",
       "      <th>artist</th>\n",
       "      <th>firstName</th>\n",
       "      <th>gender</th>\n",
       "      <th>itemInSession</th>\n",
       "      <th>lastName</th>\n",
       "      <th>length</th>\n",
       "      <th>level</th>\n",
       "      <th>location</th>\n",
       "      <th>sessionId</th>\n",
       "      <th>song</th>\n",
       "      <th>userId</th>\n",
       "    </tr>\n",
       "  </thead>\n",
       "  <tbody>\n",
       "    <tr>\n",
       "      <th>0</th>\n",
       "      <td>Barry Tuckwell/Academy of St Martin-in-the-Fie...</td>\n",
       "      <td>Mohammad</td>\n",
       "      <td>M</td>\n",
       "      <td>0</td>\n",
       "      <td>Rodriguez</td>\n",
       "      <td>277.15873</td>\n",
       "      <td>paid</td>\n",
       "      <td>Sacramento--Roseville--Arden-Arcade, CA</td>\n",
       "      <td>961</td>\n",
       "      <td>Horn Concerto No. 4 in E flat K495: II. Romanc...</td>\n",
       "      <td>88</td>\n",
       "    </tr>\n",
       "    <tr>\n",
       "      <th>1</th>\n",
       "      <td>Jimi Hendrix</td>\n",
       "      <td>Mohammad</td>\n",
       "      <td>M</td>\n",
       "      <td>1</td>\n",
       "      <td>Rodriguez</td>\n",
       "      <td>239.82975</td>\n",
       "      <td>paid</td>\n",
       "      <td>Sacramento--Roseville--Arden-Arcade, CA</td>\n",
       "      <td>961</td>\n",
       "      <td>Woodstock Inprovisation</td>\n",
       "      <td>88</td>\n",
       "    </tr>\n",
       "    <tr>\n",
       "      <th>2</th>\n",
       "      <td>Building 429</td>\n",
       "      <td>Mohammad</td>\n",
       "      <td>M</td>\n",
       "      <td>2</td>\n",
       "      <td>Rodriguez</td>\n",
       "      <td>300.61669</td>\n",
       "      <td>paid</td>\n",
       "      <td>Sacramento--Roseville--Arden-Arcade, CA</td>\n",
       "      <td>961</td>\n",
       "      <td>Majesty (LP Version)</td>\n",
       "      <td>88</td>\n",
       "    </tr>\n",
       "    <tr>\n",
       "      <th>3</th>\n",
       "      <td>The B-52's</td>\n",
       "      <td>Gianna</td>\n",
       "      <td>F</td>\n",
       "      <td>0</td>\n",
       "      <td>Jones</td>\n",
       "      <td>321.54077</td>\n",
       "      <td>free</td>\n",
       "      <td>New York-Newark-Jersey City, NY-NJ-PA</td>\n",
       "      <td>107</td>\n",
       "      <td>Love Shack</td>\n",
       "      <td>38</td>\n",
       "    </tr>\n",
       "    <tr>\n",
       "      <th>4</th>\n",
       "      <td>Die Mooskirchner</td>\n",
       "      <td>Gianna</td>\n",
       "      <td>F</td>\n",
       "      <td>1</td>\n",
       "      <td>Jones</td>\n",
       "      <td>169.29914</td>\n",
       "      <td>free</td>\n",
       "      <td>New York-Newark-Jersey City, NY-NJ-PA</td>\n",
       "      <td>107</td>\n",
       "      <td>Frisch und g'sund</td>\n",
       "      <td>38</td>\n",
       "    </tr>\n",
       "  </tbody>\n",
       "</table>\n",
       "</div>"
      ],
      "text/plain": [
       "                                              artist firstName gender  \\\n",
       "0  Barry Tuckwell/Academy of St Martin-in-the-Fie...  Mohammad      M   \n",
       "1                                       Jimi Hendrix  Mohammad      M   \n",
       "2                                       Building 429  Mohammad      M   \n",
       "3                                         The B-52's    Gianna      F   \n",
       "4                                   Die Mooskirchner    Gianna      F   \n",
       "\n",
       "   itemInSession   lastName     length level  \\\n",
       "0              0  Rodriguez  277.15873  paid   \n",
       "1              1  Rodriguez  239.82975  paid   \n",
       "2              2  Rodriguez  300.61669  paid   \n",
       "3              0      Jones  321.54077  free   \n",
       "4              1      Jones  169.29914  free   \n",
       "\n",
       "                                  location  sessionId  \\\n",
       "0  Sacramento--Roseville--Arden-Arcade, CA        961   \n",
       "1  Sacramento--Roseville--Arden-Arcade, CA        961   \n",
       "2  Sacramento--Roseville--Arden-Arcade, CA        961   \n",
       "3    New York-Newark-Jersey City, NY-NJ-PA        107   \n",
       "4    New York-Newark-Jersey City, NY-NJ-PA        107   \n",
       "\n",
       "                                                song  userId  \n",
       "0  Horn Concerto No. 4 in E flat K495: II. Romanc...      88  \n",
       "1                            Woodstock Inprovisation      88  \n",
       "2                               Majesty (LP Version)      88  \n",
       "3                                         Love Shack      38  \n",
       "4                                  Frisch und g'sund      38  "
      ]
     },
     "execution_count": 8,
     "metadata": {},
     "output_type": "execute_result"
    }
   ],
   "source": [
    "gen_df = pd.read_csv('event_datafile_new.csv')\n",
    "gen_df.head()"
   ]
  },
  {
   "cell_type": "code",
   "execution_count": 9,
   "id": "floppy-cannon",
   "metadata": {
    "editable": true
   },
   "outputs": [
    {
     "name": "stdout",
     "output_type": "stream",
     "text": [
      "<class 'pandas.core.frame.DataFrame'>\n",
      "RangeIndex: 6820 entries, 0 to 6819\n",
      "Data columns (total 11 columns):\n",
      "artist           6820 non-null object\n",
      "firstName        6820 non-null object\n",
      "gender           6820 non-null object\n",
      "itemInSession    6820 non-null int64\n",
      "lastName         6820 non-null object\n",
      "length           6820 non-null float64\n",
      "level            6820 non-null object\n",
      "location         6820 non-null object\n",
      "sessionId        6820 non-null int64\n",
      "song             6820 non-null object\n",
      "userId           6820 non-null int64\n",
      "dtypes: float64(1), int64(3), object(7)\n",
      "memory usage: 586.2+ KB\n"
     ]
    }
   ],
   "source": [
    "gen_df.info()"
   ]
  },
  {
   "cell_type": "markdown",
   "id": "elementary-regard",
   "metadata": {
    "editable": true
   },
   "source": [
    "### Query 1\n",
    "Let's create a table to respond to this question:\n",
    "\n",
    "> Give me the artist, song title and song's length in the music app history that was heard during sessionId = 338, and itemInSession = 4\n",
    "\n",
    "It's clear that we need the sessionId and the itemInSession in the primary key, and beacuse they're enough to keep every row unique we'll keep it just these ones. The partition key will be sessionId, and the clusterin column will be itemInSession."
   ]
  },
  {
   "cell_type": "markdown",
   "id": "defined-notebook",
   "metadata": {
    "editable": true
   },
   "source": [
    "**Table creation**"
   ]
  },
  {
   "cell_type": "code",
   "execution_count": 10,
   "id": "fantastic-thesaurus",
   "metadata": {
    "editable": true
   },
   "outputs": [
    {
     "data": {
      "text/plain": [
       "<cassandra.cluster.ResultSet at 0x7f7b4ac99e80>"
      ]
     },
     "execution_count": 10,
     "metadata": {},
     "output_type": "execute_result"
    }
   ],
   "source": [
    "query = '''\n",
    "    CREATE TABLE IF NOT EXISTS session_library (\n",
    "        session_id bigint, \n",
    "        item_in_session int, \n",
    "        artist_name text, \n",
    "        song_title text, \n",
    "        song_length float,\n",
    "        PRIMARY KEY (session_id, item_in_session)\n",
    "    )  \n",
    "'''\n",
    "\n",
    "session.execute(query)"
   ]
  },
  {
   "cell_type": "markdown",
   "id": "every-gender",
   "metadata": {
    "editable": true
   },
   "source": [
    "**Data insertion**"
   ]
  },
  {
   "cell_type": "code",
   "execution_count": 11,
   "id": "material-logan",
   "metadata": {
    "editable": true,
    "tags": []
   },
   "outputs": [],
   "source": [
    "file = 'event_datafile_new.csv'\n",
    "\n",
    "with open(file, encoding = 'utf8') as f:\n",
    "    csvreader = csv.reader(f)\n",
    "    next(csvreader) # skip header\n",
    "    for line in csvreader:\n",
    "        query = \"\"\"\n",
    "            INSERT INTO session_library (\n",
    "                session_id, \n",
    "                item_in_session, \n",
    "                artist_name, \n",
    "                song_title, \n",
    "                song_length\n",
    "            )\n",
    "        \"\"\"\n",
    "        query = query + \"VALUES (%s, %s, %s, %s, %s)\"\n",
    "        session.execute(query, (int(line[8]), int(line[3]), line[0], line[9], float(line[5])))"
   ]
  },
  {
   "cell_type": "markdown",
   "id": "valuable-capacity",
   "metadata": {
    "editable": true
   },
   "source": [
    "**Query test**"
   ]
  },
  {
   "cell_type": "code",
   "execution_count": 12,
   "id": "given-fashion",
   "metadata": {
    "editable": true
   },
   "outputs": [
    {
     "name": "stdout",
     "output_type": "stream",
     "text": [
      "Faithless -- Music Matters (Mark Knight Dub) -- 495.30731201171875\n"
     ]
    }
   ],
   "source": [
    "testquery = '''\n",
    "    SELECT artist_name, song_title, song_length \n",
    "    FROM session_library \n",
    "    WHERE session_id=338 AND item_in_session=4;\n",
    "'''\n",
    "\n",
    "try:\n",
    "    rows = session.execute(testquery)\n",
    "except Exception as e:\n",
    "    print(e)\n",
    "\n",
    "for row in rows:\n",
    "    print(row.artist_name, '--', row.song_title, '--', row.song_length)"
   ]
  },
  {
   "cell_type": "markdown",
   "id": "partial-stereo",
   "metadata": {
    "editable": true
   },
   "source": [
    "### Query 2\n",
    "The second question to answer with a query is:\n",
    "\n",
    "> Give me only the following: name of artist, song (sorted by itemInSession) and user (first and last name) for userid = 10, sessionid = 182\n",
    "\n",
    "In this case our partition key will be composed by two columns: userId and sessionId because the query will filter out using these ones. Besides, we'll have a itemInSession as clustering column because we need to sort by this column too."
   ]
  },
  {
   "cell_type": "markdown",
   "id": "complimentary-kidney",
   "metadata": {
    "editable": true
   },
   "source": [
    "**Table creation**"
   ]
  },
  {
   "cell_type": "code",
   "execution_count": 13,
   "id": "completed-debut",
   "metadata": {
    "editable": true
   },
   "outputs": [
    {
     "data": {
      "text/plain": [
       "<cassandra.cluster.ResultSet at 0x7f7b2b3666d8>"
      ]
     },
     "execution_count": 13,
     "metadata": {},
     "output_type": "execute_result"
    }
   ],
   "source": [
    "query = '''\n",
    "    CREATE TABLE IF NOT EXISTS user_library (\n",
    "        user_id bigint,\n",
    "        session_id bigint, \n",
    "        item_in_session int,\n",
    "        artist_name text,\n",
    "        song_title text, \n",
    "        user_first_name text,\n",
    "        user_last_name text,\n",
    "        PRIMARY KEY ((user_id, session_id), item_in_session))\n",
    "        WITH CLUSTERING ORDER BY (item_in_session ASC);\n",
    "'''\n",
    "\n",
    "session.execute(query)"
   ]
  },
  {
   "cell_type": "markdown",
   "id": "current-american",
   "metadata": {
    "editable": true
   },
   "source": [
    "**Data insertion**"
   ]
  },
  {
   "cell_type": "code",
   "execution_count": 14,
   "id": "acting-causing",
   "metadata": {
    "editable": true,
    "tags": []
   },
   "outputs": [],
   "source": [
    "file = 'event_datafile_new.csv'\n",
    "\n",
    "with open(file, encoding = 'utf8') as f:\n",
    "    csvreader = csv.reader(f)\n",
    "    next(csvreader) \n",
    "    for line in csvreader:\n",
    "        query = \"\"\"\n",
    "            INSERT INTO user_library (\n",
    "                user_id, \n",
    "                session_id, \n",
    "                item_in_session, \n",
    "                artist_name,\n",
    "                song_title, \n",
    "                user_first_name, \n",
    "                user_last_name\n",
    "            )\n",
    "        \"\"\"\n",
    "        query = query + \"VALUES (%s, %s, %s, %s, %s, %s, %s)\"\n",
    "        session.execute(query, (int(line[10]), int(line[8]), int(line[3]), line[0], line[9], line[1], line[4]))"
   ]
  },
  {
   "cell_type": "markdown",
   "id": "flexible-buyer",
   "metadata": {
    "editable": true
   },
   "source": [
    "**Query test**"
   ]
  },
  {
   "cell_type": "code",
   "execution_count": 15,
   "id": "absolute-legislature",
   "metadata": {
    "editable": true
   },
   "outputs": [
    {
     "name": "stdout",
     "output_type": "stream",
     "text": [
      "Down To The Bone -- Keep On Keepin' On -- Sylvie Cruz\n",
      "Three Drives -- Greece 2000 -- Sylvie Cruz\n",
      "Sebastien Tellier -- Kilometer -- Sylvie Cruz\n",
      "Lonnie Gordon -- Catch You Baby (Steve Pitron & Max Sanna Radio Edit) -- Sylvie Cruz\n"
     ]
    }
   ],
   "source": [
    "testquery = '''\n",
    "    SELECT artist_name, song_title, user_first_name, user_last_name \n",
    "    FROM user_library \n",
    "    WHERE user_id = 10 AND session_id = 182\n",
    "    ORDER BY item_in_session ASC;\n",
    "'''\n",
    "\n",
    "try:\n",
    "    rows = session.execute(testquery)\n",
    "except Exception as e:\n",
    "    print(e)\n",
    "\n",
    "for row in rows:\n",
    "    print(row.artist_name, '--', row.song_title, '--', row.user_first_name, row.user_last_name)"
   ]
  },
  {
   "cell_type": "markdown",
   "id": "dressed-tomorrow",
   "metadata": {
    "editable": true
   },
   "source": [
    "### Query 3\n",
    "Finally, the last question is:\n",
    "\n",
    "> Give me every user name (first and last) in my music app history who listened to the song 'All Hands Against His Own'\n",
    "\n",
    "The song column will go in the partition key since it's the filter criteria, but to ensure the uniqueness of each record we need to add userId as clustering column since multiple users can listen to the same song."
   ]
  },
  {
   "cell_type": "markdown",
   "id": "patent-bronze",
   "metadata": {
    "editable": true
   },
   "source": [
    "**Table creation**"
   ]
  },
  {
   "cell_type": "code",
   "execution_count": 16,
   "id": "indie-connectivity",
   "metadata": {
    "editable": true
   },
   "outputs": [
    {
     "data": {
      "text/plain": [
       "<cassandra.cluster.ResultSet at 0x7f7b203f6e10>"
      ]
     },
     "execution_count": 16,
     "metadata": {},
     "output_type": "execute_result"
    }
   ],
   "source": [
    "query = '''\n",
    "    CREATE TABLE IF NOT EXISTS song_library (\n",
    "        song_title text, \n",
    "        user_id bigint,\n",
    "        session_id bigint, \n",
    "        item_in_session int,\n",
    "        user_first_name text,\n",
    "        user_last_name text,\n",
    "        PRIMARY KEY (song_title, user_id)\n",
    "    );\n",
    "'''\n",
    "\n",
    "session.execute(query)"
   ]
  },
  {
   "cell_type": "markdown",
   "id": "social-headquarters",
   "metadata": {
    "editable": true
   },
   "source": [
    "**Data insertion**"
   ]
  },
  {
   "cell_type": "code",
   "execution_count": 17,
   "id": "needed-tampa",
   "metadata": {
    "editable": true,
    "tags": []
   },
   "outputs": [],
   "source": [
    "file = 'event_datafile_new.csv'\n",
    "\n",
    "with open(file, encoding = 'utf8') as f:\n",
    "    csvreader = csv.reader(f)\n",
    "    next(csvreader) \n",
    "    for line in csvreader:\n",
    "        query = \"\"\"\n",
    "            INSERT INTO song_library (\n",
    "                song_title, \n",
    "                user_id,\n",
    "                session_id, \n",
    "                item_in_session,\n",
    "                user_first_name,\n",
    "                user_last_name\n",
    "            )\n",
    "        \"\"\"\n",
    "        query = query + \"VALUES (%s, %s, %s, %s, %s, %s)\"\n",
    "        session.execute(query, (line[9], int(line[10]), int(line[8]), int(line[3]), line[1], line[4]))"
   ]
  },
  {
   "cell_type": "markdown",
   "id": "careful-genre",
   "metadata": {
    "editable": true
   },
   "source": [
    "**Query test**"
   ]
  },
  {
   "cell_type": "code",
   "execution_count": 18,
   "id": "alike-investigator",
   "metadata": {
    "editable": true
   },
   "outputs": [
    {
     "name": "stdout",
     "output_type": "stream",
     "text": [
      "Jacqueline -- Lynch\n",
      "Tegan -- Levine\n",
      "Sara -- Johnson\n"
     ]
    }
   ],
   "source": [
    "testquery = '''\n",
    "    SELECT user_first_name, user_last_name \n",
    "    FROM song_library \n",
    "    WHERE song_title = 'All Hands Against His Own';\n",
    "'''\n",
    "\n",
    "try:\n",
    "    rows = session.execute(testquery)\n",
    "except Exception as e:\n",
    "    print(e)\n",
    "\n",
    "for row in rows:\n",
    "    print(row.user_first_name, '--', row.user_last_name)"
   ]
  },
  {
   "cell_type": "markdown",
   "id": "magnetic-gateway",
   "metadata": {
    "editable": true
   },
   "source": [
    "## Droping tables and closing connection"
   ]
  },
  {
   "cell_type": "code",
   "execution_count": 19,
   "id": "extreme-festival",
   "metadata": {
    "editable": true
   },
   "outputs": [],
   "source": [
    "try:\n",
    "    query = \"DROP TABLE IF EXISTS session_library\"\n",
    "    rows = session.execute(query)\n",
    "except Exception as e:\n",
    "    print(e)\n",
    "\n",
    "try:\n",
    "    query = \"DROP TABLE IF EXISTS user_library\"\n",
    "    rows = session.execute(query)\n",
    "except Exception as e:\n",
    "    print(e)\n",
    "    \n",
    "try:\n",
    "    query = \"DROP TABLE IF EXISTS song_library\"\n",
    "    rows = session.execute(query)\n",
    "except Exception as e:\n",
    "    print(e)"
   ]
  },
  {
   "cell_type": "code",
   "execution_count": 20,
   "id": "exclusive-armstrong",
   "metadata": {
    "editable": true
   },
   "outputs": [],
   "source": [
    "session.shutdown()\n",
    "cluster.shutdown()"
   ]
  }
 ],
 "metadata": {
  "kernelspec": {
   "display_name": "Python [conda env:data_engineer] *",
   "language": "python",
   "name": "conda-env-data_engineer-py"
  },
  "language_info": {
   "codemirror_mode": {
    "name": "ipython",
    "version": 3
   },
   "file_extension": ".py",
   "mimetype": "text/x-python",
   "name": "python",
   "nbconvert_exporter": "python",
   "pygments_lexer": "ipython3",
   "version": "3.9.2"
  }
 },
 "nbformat": 4,
 "nbformat_minor": 5
}
